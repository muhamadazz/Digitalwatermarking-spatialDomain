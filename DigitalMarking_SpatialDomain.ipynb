{
  "cells": [
    {
      "cell_type": "markdown",
      "metadata": {
        "id": "biIh4eV30Zdl"
      },
      "source": [
        "**DIGITAL** **WATERMARKING USING SPATIAL DOMAIN METHOD**"
      ]
    },
    {
      "cell_type": "code",
      "execution_count": null,
      "metadata": {
        "id": "5hQNpzxU1aGU"
      },
      "outputs": [],
      "source": [
        "import cv2\n",
        "import numpy as np\n",
        "import matplotlib.pyplot as plt"
      ]
    },
    {
      "cell_type": "code",
      "execution_count": null,
      "metadata": {
        "id": "UasXfXHb1emG"
      },
      "outputs": [],
      "source": [
        "# Fungsi untuk menyisipkan watermark ke dalam gambar menggunakan LSB\n",
        "def insert_watermark(image, watermark, bit_position=0):\n",
        "    # Mengubah watermark menjadi gambar biner\n",
        "    watermark = cv2.resize(watermark, (image.shape[1], image.shape[0]))  # Sesuaikan ukuran watermark dengan gambar\n",
        "    if len(watermark.shape) == 3:  # Jika gambar watermark masih berwarna (RGB)\n",
        "        watermark = watermark[:, :, 0]  # Ambil hanya kanal pertama (grayscale)\n",
        "\n",
        "    # Menyisipkan watermark ke dalam bit terendah dari gambar\n",
        "    watermark_bin = np.unpackbits(watermark.astype(np.uint8), axis=None)  # Mengubah watermark ke dalam bentuk biner\n",
        "    image_flat = image.flatten()  # Meratakan gambar ke dalam vektor\n",
        "    image_flat_with_watermark = image_flat.copy()\n",
        "\n",
        "    for i in range(len(watermark_bin)):\n",
        "        image_flat_with_watermark[i] = (image_flat_with_watermark[i] & 0xFE) | watermark_bin[i]\n",
        "\n",
        "    # Mengembalikan gambar dengan watermark\n",
        "    watermarked_image = np.reshape(image_flat_with_watermark, image.shape)\n",
        "    return watermarked_image"
      ]
    },
    {
      "cell_type": "markdown",
      "source": [
        "The insert_watermark function is designed to embed a watermark into an image using the Least Significant Bit (LSB) method. The process begins by resizing the watermark to match the dimensions of the main image using the cv2.resize function. If the watermark is a colored (RGB) image, only the first channel is used to simplify the process. Next, the watermark is converted into a binary format using np.unpackbits, where each pixel is represented as a sequence of bits. The main image is then flattened into a one-dimensional vector for easier data manipulation. The watermark embedding is performed by modifying the least significant bit (LSB) of each pixel in the image using bitwise operations: the LSB is cleared (& 0xFE) and replaced with the corresponding watermark bit (| watermark_bin[i]). Once all the watermark bits are embedded, the modified image vector is reshaped back to its original dimensions using np.reshape. The final result is a new image with the watermark hidden in the least significant bits of each pixel."
      ],
      "metadata": {
        "id": "7OIeU0XgLUMo"
      }
    },
    {
      "cell_type": "code",
      "execution_count": null,
      "metadata": {
        "id": "cU8g9uDK1hr7"
      },
      "outputs": [],
      "source": [
        "# Fungsi untuk mengekstrak watermark dari gambar yang sudah di-watermark\n",
        "def extract_watermark(watermarked_image, original_image):\n",
        "    # Meratakan kedua gambar\n",
        "    original_image_flat = original_image.flatten()\n",
        "    watermarked_image_flat = watermarked_image.flatten()\n",
        "\n",
        "    # Mengekstrak watermark dengan cara membandingkan bit terendah\n",
        "    extracted_watermark = []\n",
        "    for i in range(len(original_image_flat)):\n",
        "        extracted_bit = watermarked_image_flat[i] & 1  # Mengambil bit terendah\n",
        "        extracted_watermark.append(extracted_bit)\n",
        "\n",
        "    # Mengonversi hasil ekstraksi biner menjadi gambar\n",
        "    extracted_watermark = np.array(extracted_watermark).reshape(original_image.shape)\n",
        "    return extracted_watermark"
      ]
    },
    {
      "cell_type": "markdown",
      "source": [
        "The extract_watermark function is designed to retrieve the hidden watermark from an image that has been embedded using the Least Significant Bit (LSB) method. The process starts by flattening both the original image and the watermarked image into one-dimensional arrays using the flatten() method. This allows for a direct comparison of pixel data between the two images. To extract the watermark, the function iterates over each pixel and isolates the least significant bit (LSB) of the watermarked image using the bitwise operation & 1, which extracts only the lowest bit of the pixel value. These extracted bits are stored in a list that represents the binary form of the watermark. Once all bits are extracted, they are reshaped to match the dimensions of the original image using np.reshape, converting the binary data back into a visual format."
      ],
      "metadata": {
        "id": "JZ7K_xmWL7Wm"
      }
    },
    {
      "cell_type": "code",
      "execution_count": null,
      "metadata": {
        "id": "9RQhK2Sl1lYE"
      },
      "outputs": [],
      "source": [
        "from google.colab import files\n",
        "import cv2\n",
        "import numpy as np\n",
        "import matplotlib.pyplot as plt\n",
        "\n",
        "# Unggah file gambar\n",
        "print(\"Upload gambar asli:\")\n",
        "uploaded = files.upload()\n",
        "image_path = list(uploaded.keys())[0]\n",
        "\n",
        "print(\"Upload watermark:\")\n",
        "uploaded = files.upload()\n",
        "watermark_path = list(uploaded.keys())[0]\n",
        "\n",
        "# Membaca gambar utama dalam format berwarna (BGR)\n",
        "image = cv2.imread(image_path, cv2.IMREAD_COLOR)\n",
        "\n",
        "# Membaca watermark dalam grayscale\n",
        "watermark = cv2.imread(watermark_path, cv2.IMREAD_GRAYSCALE)\n",
        "\n",
        "# Sesuaikan ukuran watermark agar sesuai dengan gambar utama\n",
        "watermark_resized = cv2.resize(watermark, (image.shape[1], image.shape[0]))\n",
        "\n",
        "# Konversi watermark grayscale ke format BGR\n",
        "watermark_bgr = cv2.cvtColor(watermark_resized, cv2.COLOR_GRAY2BGR)\n",
        "\n",
        "# Terapkan watermark (blending)\n",
        "alpha = 0.3  # Transparansi watermark\n",
        "beta = 1 - alpha\n",
        "gamma = 0  # Offset\n",
        "watermarked_image = cv2.addWeighted(image, beta, watermark_bgr, alpha, gamma)\n",
        "\n",
        "# Simpan gambar hasil berwarna dengan watermark\n",
        "output_path = \"watermarked_image_color.png\"\n",
        "cv2.imwrite(output_path, watermarked_image)\n",
        "print(f\"Gambar dengan watermark disimpan di: {output_path}\")\n",
        "\n",
        "# Tampilkan hasil menggunakan matplotlib\n",
        "plt.figure(figsize=(15, 5))\n",
        "\n",
        "plt.subplot(1, 3, 1)\n",
        "plt.title(\"Original Image\")\n",
        "plt.imshow(cv2.cvtColor(image, cv2.COLOR_BGR2RGB))\n",
        "plt.axis(\"off\")\n",
        "\n",
        "plt.subplot(1, 3, 2)\n",
        "plt.title(\"Watermark (Resized)\")\n",
        "plt.imshow(watermark_resized, cmap=\"gray\")\n",
        "plt.axis(\"off\")\n",
        "\n",
        "plt.subplot(1, 3, 3)\n",
        "plt.title(\"Watermarked Image\")\n",
        "plt.imshow(cv2.cvtColor(watermarked_image, cv2.COLOR_BGR2RGB))\n",
        "plt.axis(\"off\")\n",
        "\n",
        "plt.show()"
      ]
    },
    {
      "cell_type": "code",
      "source": [],
      "metadata": {
        "id": "5gIr2wO-nw_M"
      },
      "execution_count": null,
      "outputs": []
    }
  ],
  "metadata": {
    "colab": {
      "provenance": []
    },
    "kernelspec": {
      "display_name": "Python 3",
      "name": "python3"
    },
    "language_info": {
      "name": "python"
    }
  },
  "nbformat": 4,
  "nbformat_minor": 0
}